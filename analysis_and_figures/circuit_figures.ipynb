{
 "cells": [
  {
   "cell_type": "code",
   "execution_count": null,
   "id": "41b24c305a9d1101",
   "metadata": {
    "collapsed": true
   },
   "outputs": [],
   "source": [
    "import numpy as np\n",
    "from qiskit import QuantumCircuit\n",
    "\n",
    "\n",
    "def draw(circuit: QuantumCircuit):\n",
    "    return circuit.draw(\"mpl\", style=\"clifford\", fold=-1, scale=10)"
   ]
  },
  {
   "cell_type": "code",
   "execution_count": null,
   "outputs": [],
   "source": [
    "qc = QuantumCircuit(1)\n",
    "draw(qc)"
   ],
   "metadata": {
    "collapsed": false
   },
   "id": "initial_id"
  },
  {
   "cell_type": "code",
   "execution_count": null,
   "outputs": [],
   "source": [
    "qc = QuantumCircuit(3)\n",
    "qc.x(0)\n",
    "qc.y(1)\n",
    "qc.z(2)\n",
    "draw(qc)"
   ],
   "metadata": {
    "collapsed": false
   },
   "id": "60b3c4a9da2485cd"
  },
  {
   "cell_type": "code",
   "execution_count": null,
   "outputs": [],
   "source": [
    "qc = QuantumCircuit(1)\n",
    "qc.h(0)\n",
    "draw(qc)"
   ],
   "metadata": {
    "collapsed": false
   },
   "id": "cdae55706d91c8b7"
  },
  {
   "cell_type": "code",
   "execution_count": null,
   "outputs": [],
   "source": [
    "qc = QuantumCircuit(3)\n",
    "qc.rx(np.pi / 2, 0)\n",
    "qc.ry(np.pi / 2, 1)\n",
    "qc.rz(np.pi / 2, 2)\n",
    "draw(qc)"
   ],
   "metadata": {
    "collapsed": false
   },
   "id": "d564375144ea790f"
  },
  {
   "cell_type": "code",
   "execution_count": null,
   "outputs": [],
   "source": [
    "qc = QuantumCircuit(2)\n",
    "qc.cx(0, 1)\n",
    "draw(qc)"
   ],
   "metadata": {
    "collapsed": false
   },
   "id": "b4d56b488ea5ce6d"
  },
  {
   "cell_type": "code",
   "execution_count": null,
   "outputs": [],
   "source": [
    "n = 3\n",
    "qc = QuantumCircuit(n, n)\n",
    "for i in range(n):\n",
    "    qc.measure(i, i)\n",
    "draw(qc)"
   ],
   "metadata": {
    "collapsed": false
   },
   "id": "17ebf98dd44811fb"
  },
  {
   "cell_type": "code",
   "execution_count": null,
   "outputs": [],
   "source": [
    "n = 3\n",
    "qc = QuantumCircuit(n, n)\n",
    "draw(qc)"
   ],
   "metadata": {
    "collapsed": false
   },
   "id": "4bd2354975abbfce"
  },
  {
   "cell_type": "code",
   "execution_count": null,
   "outputs": [],
   "source": [
    "n = 6\n",
    "qc = [QuantumCircuit(n, n), \n",
    "      QuantumCircuit(n, name=\"F\"), \n",
    "      QuantumCircuit(n, name=\"O\"),\n",
    "      QuantumCircuit(n, name=\"G\")]\n",
    "\n",
    "# Apply H gate to all qubits\n",
    "qc[0].x(0)\n",
    "qc[0].h(range(n))\n",
    "qc[1].id(range(n))  # F block\n",
    "qc[2].id(range(n))  # O block\n",
    "qc[3].id(range(n))  # G block\n",
    "\n",
    "\n",
    "\n",
    "qc[0].append(qc[1].to_instruction(), range(n))\n",
    "qc[0].append(qc[2].to_instruction(), range(n))\n",
    "qc[0].append(qc[3].to_instruction(), range(n))\n",
    "# Measure all qubits\n",
    "qc[0].measure(range(n), range(n))\n",
    "\n",
    "# Draw the circuit\n",
    "draw(qc[0])"
   ],
   "metadata": {
    "collapsed": false
   },
   "id": "da7d9d5551d133c4"
  },
  {
   "cell_type": "code",
   "execution_count": null,
   "outputs": [],
   "source": [
    "qc = QuantumCircuit(2)\n",
    "qc.h(0)\n",
    "qc.cx(0, 1)\n",
    "draw(qc)"
   ],
   "metadata": {
    "collapsed": false
   },
   "id": "5f44f7deedf8bf26"
  },
  {
   "cell_type": "code",
   "execution_count": null,
   "outputs": [],
   "source": [],
   "metadata": {
    "collapsed": false
   },
   "id": "3eb979164f0896f7"
  },
  {
   "cell_type": "code",
   "execution_count": null,
   "outputs": [],
   "source": [
    "from qiskit.circuit import ParameterVector\n",
    "from helper.quantum_helpers import generate_q_registers\n",
    "\n",
    "SIZE, CHROMOSOME_SIZE = 2, 3\n",
    "q_register = generate_q_registers(SIZE, CHROMOSOME_SIZE)\n",
    "qc = QuantumCircuit(*q_register)\n",
    "theta_vector = [ParameterVector(f\"G{i}_\\u03B8\", CHROMOSOME_SIZE) for i in range(SIZE)]\n",
    "\n",
    "for reg in q_register:\n",
    "    qc.h(reg)\n",
    "\n",
    "for idx in range(SIZE):\n",
    "    for idq in range(CHROMOSOME_SIZE):\n",
    "        qc.ry(theta_vector[idx][idq], q_register[idx][idq])\n",
    "qc.measure_all()\n",
    "draw(qc)"
   ],
   "metadata": {
    "collapsed": false
   }
  },
  {
   "cell_type": "code",
   "execution_count": null,
   "outputs": [],
   "source": [
    "from helper.quantum_helpers import simulate_and_plot\n",
    "\n",
    "qc = QuantumCircuit(1)\n",
    "qc.h(0)\n",
    "qc.ry(-1, 0)\n",
    "qc.measure_all()\n",
    "simulate_and_plot(qc)"
   ],
   "metadata": {
    "collapsed": false
   }
  },
  {
   "cell_type": "code",
   "execution_count": null,
   "outputs": [],
   "source": [],
   "metadata": {
    "collapsed": false
   }
  }
 ],
 "metadata": {
  "kernelspec": {
   "display_name": "Python 3",
   "language": "python",
   "name": "python3"
  },
  "language_info": {
   "codemirror_mode": {
    "name": "ipython",
    "version": 2
   },
   "file_extension": ".py",
   "mimetype": "text/x-python",
   "name": "python",
   "nbconvert_exporter": "python",
   "pygments_lexer": "ipython2",
   "version": "2.7.6"
  }
 },
 "nbformat": 4,
 "nbformat_minor": 5
}
